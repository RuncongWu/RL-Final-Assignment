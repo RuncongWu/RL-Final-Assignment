{
 "cells": [
  {
   "cell_type": "markdown",
   "metadata": {},
   "source": [
    "# Reinforcement Learning Final Assignment -- Shower Agent\n",
    "Create a custom OpenAI Gym Environment for a Showering task, including a **Normal** Version Environment and a **Hard** Version Environment. \n",
    "Then, solving the environments using one **Tabular Expected SARSA method**, one **Function Approximation method with Q-Learning**, and **Tile Coding Method**.\n",
    "\n",
    "## Table of Contents:\n",
    "### 0. Import Libraries\n",
    "\n",
    "### 1. Normal Version Environment with OpenAI Gym\n",
    "\n",
    "### 2. Hard Version Environment with OpenAI Gym\n",
    "\n",
    "### 3. Tabular Method: Backward View Expected SARSA(Lambda)\n",
    " -  3.1 Test Normal Environment\n",
    " -  3.2 Test Hard Environment\n",
    "\n",
    "### 4. Function Approximation Method: Q-Learning\n",
    "   -  4.1 Test Normal Environment\n",
    "   -  4.2 Test Hard Environment\n",
    "\n",
    "### 5. Tile Coding\n",
    "   -  5.1 Test Normal Environment\n",
    "   -  5.2 Test Hard Environment"
   ]
  },
  {
   "cell_type": "markdown",
   "metadata": {},
   "source": [
    "# 0. Import Libraries"
   ]
  },
  {
   "cell_type": "code",
   "execution_count": 1,
   "metadata": {},
   "outputs": [],
   "source": [
    "from gym import Env\n",
    "from gym.spaces import Discrete, Box\n",
    "import numpy as np\n",
    "import random\n",
    "import matplotlib.pyplot as plt\n",
    "from collections import defaultdict\n",
    "from tqdm import tqdm"
   ]
  },
  {
   "cell_type": "markdown",
   "metadata": {},
   "source": [
    "# 1. Normal Version Environment with OpenAI Gym"
   ]
  },
  {
   "cell_type": "code",
   "execution_count": 2,
   "metadata": {},
   "outputs": [],
   "source": [
    "class ShowerEnvNormal(Env):\n",
    "    def __init__(self):\n",
    "        # Actions we can take, down, stay, up\n",
    "        self.action_space = Discrete(3)\n",
    "        # Temperature array\n",
    "        self.observation_space = Box(low=np.array([0]), high=np.array([100]))\n",
    "        # Set start temp\n",
    "        self.state = 25 + random.randint(-3,3)\n",
    "        # Set shower length\n",
    "        self.shower_length = 180\n",
    "        \n",
    "    def step(self, action):\n",
    "        # Apply action\n",
    "        # 0 -1 = -1 temperature\n",
    "        # 1 -1 = 0 \n",
    "        # 2 -1 = 1 temperature \n",
    "        self.state += action -1 \n",
    "        # Reduce shower length by 1 second\n",
    "        self.shower_length -= 1 \n",
    "        \n",
    "        # Calculate reward\n",
    "        if self.state >= 36 and self.state <= 39: \n",
    "            reward = 1 \n",
    "        else: \n",
    "            reward = -1 \n",
    "        \n",
    "        # Check if shower is done\n",
    "        if self.shower_length <= 0: \n",
    "            done = True\n",
    "        else:\n",
    "            done = False\n",
    "        \n",
    "        # Apply temperature noise\n",
    "        self.state += random.randint(-1,1)\n",
    "        # Set placeholder for info\n",
    "        info = {}\n",
    "        \n",
    "        # Return step information\n",
    "        return self.state, reward, done, info\n",
    "\n",
    "    def render(self):\n",
    "        # Implement viz\n",
    "        pass\n",
    "    \n",
    "    def reset(self):\n",
    "        # Reset shower temperature\n",
    "        self.state = 25 + random.randint(-3,3)\n",
    "        # Reset shower time\n",
    "        self.shower_length = 180 \n",
    "        return self.state"
   ]
  },
  {
   "cell_type": "code",
   "execution_count": 3,
   "metadata": {},
   "outputs": [
    {
     "name": "stdout",
     "output_type": "stream",
     "text": [
      "Episode:1 Score:-112\n",
      "Episode:2 Score:-138\n",
      "Episode:3 Score:-180\n",
      "Episode:4 Score:-150\n",
      "Episode:5 Score:-126\n",
      "Episode:6 Score:-116\n",
      "Episode:7 Score:-180\n",
      "Episode:8 Score:-180\n",
      "Episode:9 Score:-180\n",
      "Episode:10 Score:-168\n"
     ]
    },
    {
     "name": "stderr",
     "output_type": "stream",
     "text": [
      "/Users/Scofield/anaconda3/anaconda3/lib/python3.8/site-packages/gym/logger.py:30: UserWarning: \u001b[33mWARN: Box bound precision lowered by casting to float32\u001b[0m\n",
      "  warnings.warn(colorize('%s: %s'%('WARN', msg % args), 'yellow'))\n"
     ]
    }
   ],
   "source": [
    "env = ShowerEnvNormal()\n",
    "episodes = 10\n",
    "for episode in range(1, episodes+1):\n",
    "    state = env.reset()\n",
    "    done = False\n",
    "    score = 0 \n",
    "    \n",
    "    while not done:\n",
    "        #env.render()\n",
    "        action = env.action_space.sample()\n",
    "        n_state, reward, done, info = env.step(action)\n",
    "        score+=reward\n",
    "    print('Episode:{} Score:{}'.format(episode, score))"
   ]
  },
  {
   "cell_type": "markdown",
   "metadata": {},
   "source": [
    "# 2. Hard Version Environment with OpenAI Gym"
   ]
  },
  {
   "cell_type": "code",
   "execution_count": 4,
   "metadata": {},
   "outputs": [],
   "source": [
    "class ShowerEnvHard(Env):\n",
    "    def __init__(self):\n",
    "        # Actions we can take, down, stay, up\n",
    "        self.action_space = Discrete(3)\n",
    "        \n",
    "        # Temperature array\n",
    "        self.observation_space = Box(low=np.array([0]), high=np.array([100]), dtype=np.float32)\n",
    "        \n",
    "        # Set start water temp = state\n",
    "        self.state = 20 + random.randint(-5,5)\n",
    "        \n",
    "        # set initial skin temp = agent don't know\n",
    "        self.skin_temp = 38 + random.randint(-3,3)\n",
    "        \n",
    "        # Set shower length\n",
    "        self.shower_length = 180\n",
    "        \n",
    "    def step(self, action):\n",
    "        # Apply action\n",
    "        # 0 -1 = -1 temperature\n",
    "        # 1 -1 = 0 \n",
    "        # 2 -1 = 1 temperature \n",
    "        \n",
    "        # keep the state in the range of observation space\n",
    "        if self.state <= 0 and action == 0:\n",
    "            self.state += 3*(action + 1)\n",
    "        elif self.state >= 100 and action == 2:\n",
    "            self.state -= 0.5*(action + 1)\n",
    "        else:\n",
    "            # Since the relationship btw water temp & action on shower dials are non-linear\n",
    "            # if water temp <= 30, the slope = 3\n",
    "            # else, the slope = 0.5\n",
    "            if self.state <= 30:\n",
    "                self.state += 3*(action - 1)\n",
    "            else:\n",
    "                self.state += 0.5*(action - 1)\n",
    "        \n",
    "        # the difference btw water temp & skin temp \n",
    "        temp_diff = self.state - self.skin_temp\n",
    "        \n",
    "        # Water temp will have an impact on skin temp, coeff = 0.05\n",
    "        self.skin_temp += temp_diff * 0.05\n",
    "        \n",
    "        # Reduce shower length by 1 second\n",
    "        self.shower_length -= 1 \n",
    "        \n",
    "        # Calculate reward\n",
    "        if self.skin_temp >= 36 and self.skin_temp <= 39: \n",
    "            reward = 1 \n",
    "        else: \n",
    "            reward = -1 \n",
    "        \n",
    "        # Check if shower is done\n",
    "        if self.shower_length <= 0: \n",
    "            done = True\n",
    "        else:\n",
    "            done = False\n",
    "        \n",
    "        # Apply temperature noise\n",
    "        # 3 random event changing the water temp\n",
    "        if np.random.random() <= 0.02:\n",
    "            self.state += random.randint(-3,3)\n",
    "        elif np.random.random() <= 0.20:\n",
    "            self.state += random.randint(-2,2)\n",
    "        else:\n",
    "            self.state += random.randint(-1,1)\n",
    "        \n",
    "        # Set placeholder for info\n",
    "        info = {}\n",
    "        \n",
    "        # Return step information\n",
    "        return self.state, reward, done, info\n",
    "\n",
    "    def render(self):\n",
    "        # Implement viz\n",
    "        pass\n",
    "    \n",
    "    def reset(self):\n",
    "        # Reset shower temperature\n",
    "        self.state = 20 + random.randint(-5,5)\n",
    "        self.skin_temp = 38 + random.randint(-3,3)\n",
    "        \n",
    "        # Reset shower time\n",
    "        self.shower_length = 180 \n",
    "        return self.state"
   ]
  },
  {
   "cell_type": "code",
   "execution_count": 5,
   "metadata": {},
   "outputs": [
    {
     "name": "stdout",
     "output_type": "stream",
     "text": [
      "Episode:1 Score:-176\n",
      "Episode:2 Score:-174\n",
      "Episode:3 Score:-86\n",
      "Episode:4 Score:-174\n",
      "Episode:5 Score:-180\n",
      "Episode:6 Score:-118\n",
      "Episode:7 Score:-172\n",
      "Episode:8 Score:-180\n",
      "Episode:9 Score:-174\n",
      "Episode:10 Score:-174\n"
     ]
    }
   ],
   "source": [
    "env = ShowerEnvHard()\n",
    "episodes = 10\n",
    "for episode in range(1, episodes+1):\n",
    "    state = env.reset()\n",
    "    done = False\n",
    "    score = 0 \n",
    "    \n",
    "    while not done:\n",
    "        #env.render()\n",
    "        action = env.action_space.sample()\n",
    "        n_state, reward, done, info = env.step(action)\n",
    "        score+=reward\n",
    "    print('Episode:{} Score:{}'.format(episode, score))"
   ]
  },
  {
   "cell_type": "markdown",
   "metadata": {},
   "source": [
    "# 3. Tabular Method: Backward View Expected SARSA(Lambda)"
   ]
  },
  {
   "cell_type": "code",
   "execution_count": 6,
   "metadata": {},
   "outputs": [],
   "source": [
    "class ExpectedSARSALambdaAgent():\n",
    "    \"\"\"\n",
    "    Eaxpected SARSA with eligibility traces.\n",
    "    \"\"\"\n",
    "    def __init__(self, env, gamma, lambda_, alpha, epsilon, epsilon_decay):\n",
    "        self.env = env\n",
    "        self.gamma = gamma\n",
    "        self.lambda_ = lambda_ # \"lambda\" is a special, protected word in Python, so I add _\n",
    "        self.alpha = alpha\n",
    "        self.epsilon = epsilon\n",
    "        self.epsilon_decay = epsilon_decay\n",
    "        self.Q = np.zeros((100,3)) # Action values. Fixed for all objects for this class!\n",
    "        self.E = np.zeros_like(self.Q) # Eligibility traces. Fixed for all objects for this class!\n",
    "        self.policy = np.zeros_like(self.Q) # Policy Matrix. Fixed for all objects for this class!\n",
    "\n",
    "    def choose_action_epsilon_greedy(self, state, epsilon):\n",
    "        action_values = self.Q[state]\n",
    "        if np.random.random() < epsilon:\n",
    "            action = np.random.choice( len(action_values) )\n",
    "        else:\n",
    "            action = np.random.choice(np.where(action_values == action_values.max())[0])\n",
    "        return action\n",
    "\n",
    "    def run_episode(self, epsilon, episode):\n",
    "        \"\"\"\n",
    "        As in the algorithm in lecture, but the target involves the sum of action\n",
    "        value available from the state based on the policy, rather than the one actually chosen.\n",
    "        \"\"\"\n",
    "        # initialize for each episode\n",
    "        self.policy = np.zeros_like(self.Q) \n",
    "        self.E = np.zeros_like(self.Q)\n",
    "        state = self.env.reset()\n",
    "        action = self.choose_action_epsilon_greedy(state, epsilon)\n",
    "        done = False\n",
    "        score = 0 # record cumulative reward\n",
    "\n",
    "        while not done:\n",
    "            next_state, reward, done, _ = self.env.step(action)\n",
    "            next_state = int(round(next_state,0))\n",
    "            score += reward\n",
    "            next_action = self.choose_action_epsilon_greedy(next_state, epsilon)\n",
    "            \n",
    "            # non-greedy action\n",
    "            self.policy[next_state] = np.ones(3) * epsilon / 3\n",
    "            # greedy action\n",
    "            self.policy[next_state][np.argmax(self.Q[next_state])] = 1 - epsilon + (epsilon / 3)\n",
    "            # Expected SARSA Target\n",
    "            target = reward + ( self.gamma * np.sum(self.policy[int(next_state)]*self.Q[next_state]) )\n",
    "            \n",
    "            delta = target - self.Q[state][action]\n",
    "            self.E[state][action] += 1\n",
    "            self.Q += self.alpha * delta * self.E # update every Q you previous taken!\n",
    "            self.E *= self.gamma * self.lambda_ # decay!\n",
    "            state, action = next_state, next_action\n",
    "\n",
    "        return score # return reward for each episode!\n",
    "\n",
    "    def learn_task(self, num_episodes):\n",
    "        \"\"\"\n",
    "        This... learns the task.\n",
    "        \"\"\"\n",
    "        #I put this here in case I wanted to use solved episode # as the optimizer target.\n",
    "        solved = False \n",
    "        solved_episode = None\n",
    "\n",
    "        epsilon = self.epsilon\n",
    "        self.Q = np.zeros((100,3))\n",
    "        self.policy = np.zeros_like(self.Q)\n",
    "        returns = [] # store return!\n",
    "        avg_100ep_returns = [] # store 100 average return!\n",
    "\n",
    "        for episode in tqdm( range(1, num_episodes+1), position=0, leave=True ):\n",
    "            episode_return = self.run_episode(epsilon, episode)\n",
    "            returns.append(episode_return)\n",
    "            \n",
    "            if episode >= 100:\n",
    "                avg_100ep_returns.append(np.mean(returns[-100:])) # count backward 100, capture most recent 100, sliding window! \n",
    "\n",
    "            # Again, the code below is if we wanted to use episode solve index\n",
    "            # as the hyperparameter search optimization target.\n",
    "            if (np.mean(returns[-100:]) >= 100) and (solved == False):\n",
    "                solved_episode = episode\n",
    "\n",
    "            epsilon *= self.epsilon_decay\n",
    "        return returns, avg_100ep_returns, solved_episode"
   ]
  },
  {
   "cell_type": "markdown",
   "metadata": {},
   "source": [
    "## 3.1 Test Normal Environment"
   ]
  },
  {
   "cell_type": "code",
   "execution_count": 7,
   "metadata": {},
   "outputs": [],
   "source": [
    "# Define hyperparameters\n",
    "gamma = 0.9 # usually higher\n",
    "lambda_ = 0.1 # usually lower\n",
    "epsilon = 1. # Exploration very critical early on. Only way to the goal. \n",
    "epsilon_decay = 0.95 # usually higher\n",
    "alpha = 0.8 # Have to make the most of sparse rewards.\n",
    "num_episodes = 1000 # large number of episodes\n",
    "\n",
    "# Create Agent Object\n",
    "agentNormalTabular = ExpectedSARSALambdaAgent(ShowerEnvNormal(), gamma, lambda_, alpha, epsilon, epsilon_decay)"
   ]
  },
  {
   "cell_type": "code",
   "execution_count": 8,
   "metadata": {},
   "outputs": [
    {
     "name": "stderr",
     "output_type": "stream",
     "text": [
      "100%|██████████| 1000/1000 [00:14<00:00, 68.92it/s]\n"
     ]
    }
   ],
   "source": [
    "# Run the episodes\n",
    "rew, avg, solved_ep = agentNormalTabular.learn_task(num_episodes)"
   ]
  },
  {
   "cell_type": "code",
   "execution_count": 9,
   "metadata": {},
   "outputs": [
    {
     "data": {
      "text/plain": [
       "Text(0.5, 0.98, 'Tabular Method: Normal Environment')"
      ]
     },
     "execution_count": 9,
     "metadata": {},
     "output_type": "execute_result"
    },
    {
     "data": {
      "image/png": "[encoded data removed]",
      "text/plain": [
       "<Figure size 720x360 with 2 Axes>"
      ]
     },
     "metadata": {
      "needs_background": "light"
     },
     "output_type": "display_data"
    }
   ],
   "source": [
    "# Show results\n",
    "fig, (ax1, ax2) = plt.subplots(1, 2, figsize=(10, 5))\n",
    "ax1.plot(rew)\n",
    "ax1.set_title(\"Reward\")\n",
    "ax2.plot(avg)\n",
    "ax2.set_title(\"Average Reward\")\n",
    "fig.suptitle(\"Tabular Method: Normal Environment\")"
   ]
  },
  {
   "cell_type": "markdown",
   "metadata": {},
   "source": [
    "## 3.2 Test Hard Environment"
   ]
  },
  {
   "cell_type": "code",
   "execution_count": 10,
   "metadata": {},
   "outputs": [],
   "source": [
    "# Define hyperparameters\n",
    "gamma = 0.9 # usually higher\n",
    "lambda_ = 0.2 # usually lower\n",
    "epsilon = 1. # Exploration very critical early on. Only way to the goal. \n",
    "epsilon_decay = 0.95 # usually higher\n",
    "alpha = 0.8 # Have to make the most of sparse rewards.\n",
    "num_episodes = 1000 # large number of episodes\n",
    "\n",
    "# Create Agent Object\n",
    "agentHardTabular = ExpectedSARSALambdaAgent(ShowerEnvHard(), gamma, lambda_, alpha, epsilon, epsilon_decay)"
   ]
  },
  {
   "cell_type": "code",
   "execution_count": 11,
   "metadata": {},
   "outputs": [
    {
     "name": "stderr",
     "output_type": "stream",
     "text": [
      "100%|██████████| 1000/1000 [00:16<00:00, 62.25it/s]\n"
     ]
    }
   ],
   "source": [
    "# Run the episodes\n",
    "rew, avg, solved_ep = agentHardTabular.learn_task(num_episodes)"
   ]
  },
  {
   "cell_type": "code",
   "execution_count": 12,
   "metadata": {},
   "outputs": [
    {
     "data": {
      "text/plain": [
       "Text(0.5, 0.98, 'Tabular Method: Hard Environment')"
      ]
     },
     "execution_count": 12,
     "metadata": {},
     "output_type": "execute_result"
    },
    {
     "data": {
      "image/png": "[encoded data removed]",
      "text/plain": [
       "<Figure size 720x360 with 2 Axes>"
      ]
     },
     "metadata": {
      "needs_background": "light"
     },
     "output_type": "display_data"
    }
   ],
   "source": [
    "# Show results\n",
    "fig, (ax1, ax2) = plt.subplots(1, 2, figsize=(10, 5))\n",
    "ax1.plot(rew)\n",
    "ax1.set_title(\"Reward\")\n",
    "ax2.plot(avg)\n",
    "ax2.set_title(\"Average Reward\")\n",
    "fig.suptitle(\"Tabular Method: Hard Environment\")"
   ]
  },
  {
   "cell_type": "markdown",
   "metadata": {},
   "source": [
    "# 4. Function Approximation Method: Q-Learning"
   ]
  },
  {
   "cell_type": "code",
   "execution_count": 13,
   "metadata": {},
   "outputs": [],
   "source": [
    "class LinearQLearner():\n",
    "    \"\"\"\n",
    "    A Linear Q-Learner that just acts greedily all the time. \n",
    "\n",
    "    Attributes:\n",
    "      env : An OpenGym environment\n",
    "      num_actions : An integer. The number of actions. For convenient reference.\n",
    "      state_size : An integer. The number of features. For convenient refernece.\n",
    "      gamma : A float; the discount factor\n",
    "      alpha : A float; the learning rate.\n",
    "      epsilon : A float indicating the exploration probability during action\n",
    "        selection.\n",
    "      epsilon_decay : A float indicating how much epsilon will be decayed\n",
    "        between episodes.\n",
    "      weights : A numpy array (state_size x num_actions) storing the weights.\n",
    "        This is a stacked representation, in which each action has its own\n",
    "        weights. For example, the weights for action 0 are stored in column 0,\n",
    "        the weights for action 1 are stored in column 1 ...\n",
    "\n",
    "    \"\"\"\n",
    "\n",
    "    def __init__(self, env, gamma, alpha, epsilon, epsilon_decay):\n",
    "        self.env = env\n",
    "        self.num_actions = self.env.action_space.n\n",
    "        self.state_size = self.env.observation_space.shape[0]\n",
    "        self.gamma = gamma\n",
    "        self.alpha = alpha\n",
    "        self.epsilon = epsilon\n",
    "        self.epsilon_decay = epsilon_decay\n",
    "        self.weights = np.zeros(\n",
    "            (self.state_size, self.env.action_space.n)\n",
    "        )\n",
    "    \n",
    "    def reset(self):\n",
    "        \"\"\"\n",
    "        Resets the weights to 0 for fresh runs.\n",
    "        \"\"\"\n",
    "        self.weights = np.zeros((self.state_size, self.num_actions))\n",
    "\n",
    "    def estimate_action_values(self, state):\n",
    "        \"\"\"\n",
    "        Arguments:\n",
    "        state: A numpy array storing the continuous state vector.\n",
    "        Returns:\n",
    "        action_values: A numpy array storing the estimated Q values for each \n",
    "          action available in the given state.\n",
    "        \"\"\"\n",
    "        action_values = np.dot(\n",
    "          state, \n",
    "          self.weights\n",
    "          )\n",
    "        return action_values\n",
    "\n",
    "    def update_weights(self, delta, state, action):\n",
    "        \"\"\"\n",
    "        Calculates and applies the gradient update to the weights for the chosen\n",
    "        action.\n",
    "        Arguments:\n",
    "            delta: A float; the TD-error.\n",
    "            state: A numpy array storing the state vector.\n",
    "            action: An integer; the index of the chosen action.\n",
    "        \"\"\"\n",
    "        delta_vector = np.zeros((1, self.num_actions))\n",
    "        delta_vector[0,action] = self.alpha * delta\n",
    "        update =  np.dot(state.T, delta_vector)\n",
    "        self.weights += update\n",
    "\n",
    "    def choose_action_epsilon_greedy(self, state, epsilon):\n",
    "        \"\"\"\n",
    "        Chooses an action according to the epsilon-greedy policy.\n",
    "        Arguments:\n",
    "            state: A numpy array storing the state vector.\n",
    "            epsilon: A float; the probabilty to choose a random action.\n",
    "        Returns:\n",
    "            action: The index of the chosen action.\n",
    "            action_value: The vector of Q-values for all available actions.\n",
    "            action_max: The greedy action (for convenience).\n",
    "        \"\"\"\n",
    "        action_values = self.estimate_action_values(state)\n",
    "        #print(action_values)\n",
    "        if np.random.random() < epsilon:\n",
    "            action = np.random.choice( self.env.action_space.n )\n",
    "        else:\n",
    "            action = np.random.choice(np.where(action_values == action_values.max())[0])\n",
    "        action_value = action_values[0,action]\n",
    "        action_max = np.max(action_values)\n",
    "        return action, action_value, action_max\n",
    "\n",
    "    def run_episode(self, epsilon, episode):\n",
    "        \"\"\"\n",
    "        Runs an epsiode.\n",
    "        Arguments:\n",
    "          epsilon: A float; the probability of choosing a random action.\n",
    "          episode: An integer, the current episode number.\n",
    "        Returns:\n",
    "          episode_return: A float. The total reward collected over the episode.\n",
    "        \"\"\"\n",
    "        episode_return = 0\n",
    "        state = np.array(self.env.reset()).reshape((1,self.state_size))\n",
    "        done = False\n",
    "\n",
    "        while not done:\n",
    "            action, action_value, _ = self.choose_action_epsilon_greedy(state, epsilon)\n",
    "            next_state, reward, done, _ = self.env.step(action)\n",
    "            next_state = np.array(next_state).reshape((1,self.state_size))\n",
    "            next_action, _, max_q = \\\n",
    "                self.choose_action_epsilon_greedy(next_state, epsilon)\n",
    "\n",
    "            \"\"\"\n",
    "            Below, I multiply the gamma*q component by (1-done) because:\n",
    "            If the episode is done we don't need the gamma*q, so this \n",
    "            eliminates that component when we need it to be gone.\n",
    "            1 - True = 1 - 1 = 0\n",
    "            1 - False = 1 - 0 = 1\n",
    "            \"\"\"\n",
    "            #target = reward + ( self.gamma * next_action ) * (1-done) # SARSA\n",
    "            target = reward + ( self.gamma * max_q ) * (1-done) # Q-learning\n",
    "            delta = target - action_value\n",
    "            self.update_weights(delta, state, action)\n",
    "            episode_return += reward\n",
    "            state = next_state\n",
    "\n",
    "        return episode_return\n",
    "\n",
    "    def learn_task(self, num_episodes, print_progress):\n",
    "        \"\"\"\n",
    "        This... learns the task.\n",
    "        Arguments:\n",
    "            num_episodes: An integer. The number of episodes to run.\n",
    "            print_progress: Boolean. Do we want the progress printed as we go?\n",
    "        Returns:\n",
    "            returns: A list of the rewards collected from each episode.\n",
    "            rolling_100_episode_avg: A list of the average of the last 100 episode \n",
    "              returns. Starts at episode 101,\n",
    "        \"\"\"\n",
    "        epsilon = self.epsilon\n",
    "        returns = []\n",
    "        rolling_100_episode_avg = []\n",
    "\n",
    "        for episode in tqdm( range(1, num_episodes+1), position=0, leave=True ):\n",
    "            episode_return = self.run_episode(epsilon, episode)\n",
    "            returns.append(episode_return)\n",
    "            if episode > 100:\n",
    "                avg = sum(returns[episode-100:episode])/100\n",
    "                rolling_100_episode_avg.append(avg)\n",
    "                if avg >= 100:\n",
    "                    print('Solved in {} Episodes!'.format(episode))\n",
    "                    break\n",
    "                if print_progress and episode % 100 == 0:\n",
    "                    print('Average Reward for Last 100 Episodes = {}'.format(avg))\n",
    "\n",
    "            epsilon *= self.epsilon_decay\n",
    "\n",
    "        return returns, rolling_100_episode_avg"
   ]
  },
  {
   "cell_type": "markdown",
   "metadata": {},
   "source": [
    "## 4.1 Test Normal Environment"
   ]
  },
  {
   "cell_type": "code",
   "execution_count": 14,
   "metadata": {},
   "outputs": [],
   "source": [
    "gamma = 1.\n",
    "alpha = .00001\n",
    "epsilon = 0.1\n",
    "epsilon_decay = .9999\n",
    "\n",
    "agentNormalFA = LinearQLearner(ShowerEnvNormal(), gamma, alpha, epsilon, epsilon_decay)"
   ]
  },
  {
   "cell_type": "code",
   "execution_count": 15,
   "metadata": {},
   "outputs": [
    {
     "name": "stderr",
     "output_type": "stream",
     "text": [
      "100%|██████████| 1000/1000 [00:14<00:00, 67.50it/s]\n"
     ]
    }
   ],
   "source": [
    "rew, avg = agentNormalFA.learn_task(1000, print_progress = False)"
   ]
  },
  {
   "cell_type": "code",
   "execution_count": 16,
   "metadata": {},
   "outputs": [
    {
     "data": {
      "text/plain": [
       "Text(0.5, 0.98, 'Function Approximation Method: Normal Environment')"
      ]
     },
     "execution_count": 16,
     "metadata": {},
     "output_type": "execute_result"
    },
    {
     "data": {
      "image/png": "[encoded data removed]",
      "text/plain": [
       "<Figure size 720x360 with 2 Axes>"
      ]
     },
     "metadata": {
      "needs_background": "light"
     },
     "output_type": "display_data"
    }
   ],
   "source": [
    "# Show results\n",
    "fig, (ax1, ax2) = plt.subplots(1, 2, figsize=(10, 5))\n",
    "ax1.plot(rew)\n",
    "ax1.set_title(\"Reward\")\n",
    "ax2.plot(avg)\n",
    "ax2.set_title(\"Average Reward\")\n",
    "fig.suptitle(\"Function Approximation Method: Normal Environment\")"
   ]
  },
  {
   "cell_type": "markdown",
   "metadata": {},
   "source": [
    "## 4.2 Test Hard Environment"
   ]
  },
  {
   "cell_type": "code",
   "execution_count": 17,
   "metadata": {},
   "outputs": [],
   "source": [
    "gamma = 1.\n",
    "alpha = .00001\n",
    "epsilon = 0.1\n",
    "epsilon_decay = .9999\n",
    "\n",
    "agentHardFA = LinearQLearner(ShowerEnvHard(), gamma, alpha, epsilon, epsilon_decay)"
   ]
  },
  {
   "cell_type": "code",
   "execution_count": 18,
   "metadata": {},
   "outputs": [
    {
     "name": "stderr",
     "output_type": "stream",
     "text": [
      "100%|██████████| 1000/1000 [00:17<00:00, 56.04it/s]\n"
     ]
    }
   ],
   "source": [
    "rew, avg = agentHardFA.learn_task(1000, print_progress = False)"
   ]
  },
  {
   "cell_type": "code",
   "execution_count": 19,
   "metadata": {},
   "outputs": [
    {
     "data": {
      "text/plain": [
       "Text(0.5, 0.98, 'Function Approximation Method: Hard Environment')"
      ]
     },
     "execution_count": 19,
     "metadata": {},
     "output_type": "execute_result"
    },
    {
     "data": {
      "image/png": "[encoded data removed]",
      "text/plain": [
       "<Figure size 720x360 with 2 Axes>"
      ]
     },
     "metadata": {
      "needs_background": "light"
     },
     "output_type": "display_data"
    }
   ],
   "source": [
    "# Show results\n",
    "fig, (ax1, ax2) = plt.subplots(1, 2, figsize=(10, 5))\n",
    "ax1.plot(rew)\n",
    "ax1.set_title(\"Reward\")\n",
    "ax2.plot(avg)\n",
    "ax2.set_title(\"Average Reward\")\n",
    "fig.suptitle(\"Function Approximation Method: Hard Environment\")"
   ]
  },
  {
   "cell_type": "markdown",
   "metadata": {},
   "source": [
    "# 5. Tile Coding"
   ]
  },
  {
   "cell_type": "code",
   "execution_count": 20,
   "metadata": {},
   "outputs": [],
   "source": [
    "class TileCoder():\n",
    "    \"\"\"\n",
    "    Computes tiles and outputs either the \"active feature\" indices (i.e., an\n",
    "    array of integers) or the complete binary vector state representation (i.e., \n",
    "    the one-hot vectors for each tiling concatenated into a single big vector).\n",
    "\n",
    "    Attributes:\n",
    "      maxNormal: An integer (usually 1). For normalization of the inputs. If 1,\n",
    "        the inputs are normalized to [0,1]. If 2, [0,2]. And so on.\n",
    "        \n",
    "      shape: An integer. The number of features.\n",
    "\n",
    "      maxVal: A list of length num_features. The maximum values for each feature.\n",
    "\n",
    "      minVal: A list of length num_features. The minimum values for each feature.\n",
    "\n",
    "      numTilings: The number of tilings to use.\n",
    "\n",
    "      tilesPerTiling: The number of tiles for each tiling.\n",
    "\n",
    "      dim: Integer. The length of maxVal, used as a reference for # of features.\n",
    "\n",
    "      numTiles: Integer. The number of tiles per tiling.\n",
    "\n",
    "      actions: Integer. The number of actions.\n",
    "\n",
    "      n: Integer. The total number of features in the binary vector. Not used by me.\n",
    "\n",
    "      tileSize: 1 / numTilings. Used in the tile computation in get_features.\n",
    "\n",
    "    \"\"\"\n",
    "    def __init__(self, numTilings, tilesPerTiling, env):\n",
    "        # Set max value for normalization of inputs\n",
    "        self.maxNormal = 1\n",
    "        self.shape = env.observation_space.shape # Number of features?\n",
    "        self.maxVal = env.observation_space.high # Used for normalization\n",
    "        self.minVal = env.observation_space.low # Used for normalization\n",
    "        self.numTilings = numTilings\n",
    "        self.tilesPerTiling = tilesPerTiling\n",
    "        self.dim = len(self.maxVal)\n",
    "        self.numTiles = (self.tilesPerTiling**self.dim) * self.numTilings\n",
    "        self.actions = env.action_space.n\n",
    "        self.n = self.numTiles * self.actions\n",
    "        self.tileSize = np.divide(np.ones(self.dim)*self.maxNormal, self.tilesPerTiling-1)\n",
    "\n",
    "    def get_features(self, variables):\n",
    "        \"\"\"\n",
    "        Takes in the continuous state representation, returns the indices of\n",
    "        the active features/tiles.\n",
    "\n",
    "        Ensures range is always between 0 and self.maxValue.\n",
    "\n",
    "        Arguments:\n",
    "          variables: A numpy array of floats storing the continuous state vector.\n",
    "        Returns:\n",
    "          tileIndices: A numpy array of integers storing the indices of active tiles.\n",
    "        \"\"\"\n",
    "        values = np.zeros(self.dim)\n",
    "        for i in range(len(self.shape)):\n",
    "            values[i] = self.maxNormal * ((variables[i] - self.minVal[i])/(self.maxVal[i]-self.minVal[i])) # Normalize range 0-1\n",
    "        tileIndices = np.zeros(self.numTilings)\n",
    "        matrix = np.zeros([self.numTilings,self.dim])\n",
    "        for i in range(self.numTilings):\n",
    "            for i2 in range(self.dim):\n",
    "                matrix[i,i2] = int(values[i2] / self.tileSize[i2] + i / self.numTilings)\n",
    "        for i in range(1,self.dim):\n",
    "            matrix[:,i] *= self.tilesPerTiling**i\n",
    "        for i in range(self.numTilings):\n",
    "            tileIndices[i] = (i * (self.tilesPerTiling**self.dim) + sum(matrix[i,:])) \n",
    "        return tileIndices.astype(int)\n",
    "\n",
    "    def one_hot_vector(self, indices):\n",
    "        \"\"\"\n",
    "        Takes in the indices of active tiles, returns the long binary vector\n",
    "        of concatenated one-hot vectors.\n",
    "\n",
    "        Arguments:\n",
    "        indices: A numpy array of ints storing the indices of active tiles.\n",
    "        Returns:\n",
    "        binary_vector: A numpy array of 0s and 1s, with each active tile set \n",
    "          to 1 (all others 0).\n",
    "        \"\"\"\n",
    "        binary_vector = np.zeros((self.numTiles,1))\n",
    "        \n",
    "        for i, item in enumerate(indices):\n",
    "            if item >= (len(binary_vector)-1):\n",
    "                indices[i] = (len(binary_vector)-1)\n",
    "        \n",
    "        binary_vector[indices] = 1\n",
    "        return binary_vector"
   ]
  },
  {
   "cell_type": "code",
   "execution_count": 21,
   "metadata": {},
   "outputs": [],
   "source": [
    "class LinearTileCodedQLearner():\n",
    "    \"\"\"\n",
    "    The same linear learner as before, but this time equipped with a tile coder.\n",
    "\n",
    "    Attributes:\n",
    "        env: An OpenGym env instance\n",
    "        num_actions: An integer. The number of actions (for convenience).\n",
    "        num_tilings: An integer. The number of tilings.\n",
    "        tiles_per_tiling: An integer. The number of tiles per tiling used. \n",
    "        tile_coder: A TileCoder instance, instantiated with num_tilings and tiles_per_tiling.\n",
    "        alpha: A float; the learning rate. Divided the the number of tilings as in the text.\n",
    "        weights: A numpy array storing the model weights. Of shape (num_features,num_actions).\n",
    "          The number of features = number of tilings * tiles per tiling.\n",
    "    \"\"\"\n",
    "    def __init__(self, env, gamma, alpha, num_tilings, tiles_per_tiling):\n",
    "        self.env = env\n",
    "        self.num_actions = self.env.action_space.n # For convenience\n",
    "        self.gamma = gamma\n",
    "        self.tile_coder = TileCoder(\n",
    "            numTilings = num_tilings, \n",
    "            tilesPerTiling = tiles_per_tiling, \n",
    "            env = self.env\n",
    "            )\n",
    "        # Set alpha roughly according to advice on pg 220 of text.\n",
    "        self.alpha = (alpha/ num_tilings)\n",
    "\n",
    "        # Weights initialized to zero because the reward is constantly -1;\n",
    "        # zero is actually an \"optimistic initial value\" and guarantees \n",
    "        # sufficient exploration.\n",
    "        self.weights = np.zeros((self.tile_coder.numTiles, self.num_actions))\n",
    "\n",
    "    def reset(self):\n",
    "        self.weights = np.zeros((self.tile_coder.numTiles, self.num_actions))\n",
    "\n",
    "    def update_weights(self, delta, encoded_state, action):\n",
    "        delta_vector = np.zeros((1, self.num_actions))\n",
    "        delta_vector[0,action] = delta\n",
    "        update = self.alpha * np.dot(encoded_state, delta_vector)\n",
    "        self.weights += update\n",
    "\n",
    "    def run_episode(self, episode):\n",
    "        \"\"\"\n",
    "        As before, but no epsilon because we don't need itttttt\n",
    "        \"\"\"\n",
    "        G = 0\n",
    "        state = self.env.reset()\n",
    "        done = False\n",
    "\n",
    "        while not done:\n",
    "            encoded_state = self.tile_coder.one_hot_vector(\n",
    "                self.tile_coder.get_features(np.array(state).reshape(-1))\n",
    "            )\n",
    "            Q = np.dot(encoded_state.T,self.weights).reshape(-1)\n",
    "            action = np.argmax(Q)\n",
    "            next_state, reward, done, _ = self.env.step(action)\n",
    "            G += reward\n",
    "\n",
    "            encoded_next_state = self.tile_coder.one_hot_vector(\n",
    "                self.tile_coder.get_features(np.array(next_state).reshape(-1))\n",
    "            )\n",
    "            next_Q = np.dot(encoded_next_state.T,self.weights).reshape(-1)\n",
    "            delta = reward + (self.gamma * np.max(next_Q) * (1-done)) - Q[action]\n",
    "            self.update_weights(delta, encoded_state, action)\n",
    "            state = next_state\n",
    "\n",
    "        return G\n",
    "\n",
    "    def learn_task(self, num_episodes, print_progress):\n",
    "        returns = []\n",
    "        rolling_100_episode_avg = []\n",
    "\n",
    "        for episode in tqdm( range(1, num_episodes+1), position=0, leave=True):\n",
    "            episode_return = self.run_episode(episode)\n",
    "            returns.append(episode_return)\n",
    "            if episode > 100:\n",
    "                avg = sum(returns[episode-100:episode])/100\n",
    "                rolling_100_episode_avg.append(avg)\n",
    "                \n",
    "                # agent can solve the environment very quickly\n",
    "                # so I comment the following 3 lines out to produce the reward plots\n",
    "                #if avg >= 100:    \n",
    "                    #print('Solved in {} Episodes!'.format(episode))\n",
    "                    #break\n",
    "                if print_progress and episode % 100 == 0:\n",
    "                    print('Average Reward for Last 100 Episodes = {}'.format(avg))\n",
    "        \n",
    "        return returns, rolling_100_episode_avg"
   ]
  },
  {
   "cell_type": "markdown",
   "metadata": {},
   "source": [
    "## 5.1 Test Normal Environment"
   ]
  },
  {
   "cell_type": "code",
   "execution_count": 22,
   "metadata": {},
   "outputs": [],
   "source": [
    "gamma = 0.95\n",
    "alpha = 0.95\n",
    "num_tilings = 3 \n",
    "tiles_per_tiling = 9\n",
    "\n",
    "agent = LinearTileCodedQLearner(ShowerEnvNormal(), gamma, alpha, num_tilings, tiles_per_tiling)"
   ]
  },
  {
   "cell_type": "code",
   "execution_count": 23,
   "metadata": {},
   "outputs": [
    {
     "name": "stderr",
     "output_type": "stream",
     "text": [
      "100%|██████████| 2000/2000 [00:43<00:00, 46.20it/s]\n"
     ]
    }
   ],
   "source": [
    "rew, avg = agent.learn_task(2000, print_progress = False)"
   ]
  },
  {
   "cell_type": "code",
   "execution_count": 24,
   "metadata": {},
   "outputs": [
    {
     "data": {
      "image/png": "[encoded data removed]",
      "text/plain": [
       "<Figure size 720x360 with 2 Axes>"
      ]
     },
     "metadata": {
      "needs_background": "light"
     },
     "output_type": "display_data"
    }
   ],
   "source": [
    "# Show results\n",
    "fig, (ax1, ax2) = plt.subplots(1, 2, figsize=(10, 5))\n",
    "ax1.plot(rew)\n",
    "ax1.set_title(\"Reward\")\n",
    "ax2.plot(avg)\n",
    "ax2.set_title(\"Average Reward\")\n",
    "fig.suptitle(\"Tile Coding Method: Normal Environment\")\n",
    "\n",
    "agent.reset()"
   ]
  },
  {
   "cell_type": "markdown",
   "metadata": {},
   "source": [
    "## 5.2 Test Hard Environment"
   ]
  },
  {
   "cell_type": "code",
   "execution_count": 25,
   "metadata": {},
   "outputs": [],
   "source": [
    "gamma = 0.96\n",
    "alpha = 0.96\n",
    "num_tilings = 2\n",
    "tiles_per_tiling = 16\n",
    "\n",
    "agent_tile_2 = LinearTileCodedQLearner(ShowerEnvHard(), gamma, alpha, num_tilings, tiles_per_tiling)"
   ]
  },
  {
   "cell_type": "code",
   "execution_count": 26,
   "metadata": {},
   "outputs": [
    {
     "name": "stderr",
     "output_type": "stream",
     "text": [
      "100%|██████████| 2000/2000 [00:40<00:00, 48.87it/s]\n"
     ]
    }
   ],
   "source": [
    "rew, avg = agent_tile_2.learn_task(2000, print_progress = False)"
   ]
  },
  {
   "cell_type": "code",
   "execution_count": 27,
   "metadata": {},
   "outputs": [
    {
     "data": {
      "image/png": "[encoded data removed]",
      "text/plain": [
       "<Figure size 720x360 with 2 Axes>"
      ]
     },
     "metadata": {
      "needs_background": "light"
     },
     "output_type": "display_data"
    }
   ],
   "source": [
    "# Show results\n",
    "fig, (ax1, ax2) = plt.subplots(1, 2, figsize=(10, 5))\n",
    "ax1.plot(rew)\n",
    "ax1.set_title(\"Reward\")\n",
    "ax2.plot(avg)\n",
    "ax2.set_title(\"Average Reward\")\n",
    "fig.suptitle(\"Tile Coding Method: Hard Environment\")\n",
    "\n",
    "agent_tile_2.reset()"
   ]
  }
 ],
 "metadata": {
  "kernelspec": {
   "display_name": "Python 3",
   "language": "python",
   "name": "python3"
  },
  "language_info": {
   "codemirror_mode": {
    "name": "ipython",
    "version": 3
   },
   "file_extension": ".py",
   "mimetype": "text/x-python",
   "name": "python",
   "nbconvert_exporter": "python",
   "pygments_lexer": "ipython3",
   "version": "3.8.3"
  }
 },
 "nbformat": 4,
 "nbformat_minor": 4
}
